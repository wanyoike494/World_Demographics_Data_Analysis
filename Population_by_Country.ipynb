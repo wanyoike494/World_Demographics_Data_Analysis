{
  "cells": [
    {
      "cell_type": "markdown",
      "metadata": {
        "id": "view-in-github",
        "colab_type": "text"
      },
      "source": [
        "<a href=\"https://colab.research.google.com/github/wanyoike494/World_Demographics_Data_Analysis/blob/main/Population_by_Country.ipynb\" target=\"_parent\"><img src=\"https://colab.research.google.com/assets/colab-badge.svg\" alt=\"Open In Colab\"/></a>"
      ]
    },
    {
      "cell_type": "markdown",
      "source": [
        "In this Project we analyse world population by country.\n",
        "The data is on Azure Database for MySQL.\n",
        "The First step is to make a connection to the database."
      ],
      "metadata": {
        "id": "2IboWMQYQTR6"
      },
      "id": "2IboWMQYQTR6"
    },
    {
      "cell_type": "markdown",
      "source": [
        "Install Necessary packages"
      ],
      "metadata": {
        "id": "d3zCMLYmQ9At"
      },
      "id": "d3zCMLYmQ9At"
    },
    {
      "cell_type": "code",
      "execution_count": 10,
      "id": "60db6568-0de6-4893-a4d1-dfa06b0fe036",
      "metadata": {
        "id": "60db6568-0de6-4893-a4d1-dfa06b0fe036",
        "outputId": "9be8afaf-e269-4984-c948-5108363e667c",
        "colab": {
          "base_uri": "https://localhost:8080/"
        }
      },
      "outputs": [
        {
          "output_type": "stream",
          "name": "stdout",
          "text": [
            "Requirement already satisfied: mysql-connector-python in /usr/local/lib/python3.10/dist-packages (9.0.0)\n"
          ]
        }
      ],
      "source": [
        "pip install mysql-connector-python\n"
      ]
    },
    {
      "cell_type": "markdown",
      "source": [
        "Load necessary Packages"
      ],
      "metadata": {
        "id": "nOHjd2bGRx6A"
      },
      "id": "nOHjd2bGRx6A"
    },
    {
      "cell_type": "code",
      "source": [
        "import mysql.connector\n",
        "from mysql.connector import errorcode"
      ],
      "metadata": {
        "id": "fIF3IshlRjbr"
      },
      "id": "fIF3IshlRjbr",
      "execution_count": 11,
      "outputs": []
    },
    {
      "cell_type": "markdown",
      "source": [
        "Make a connection to the Database"
      ],
      "metadata": {
        "id": "2MtNlFzcR7B1"
      },
      "id": "2MtNlFzcR7B1"
    },
    {
      "cell_type": "code",
      "source": [
        "try:\n",
        "    cnx = mysql.connector.connect(\n",
        "        user=\"admin1\",\n",
        "        password=\"404/root/\",\n",
        "        host=\"njwazuredatabasemysql1.mysql.database.azure.com\",\n",
        "        port=3306,\n",
        "        database=\"mysql\",\n",
        "        ssl_ca=\"C:/Users/joseph274/Downloads/DigiCertGlobalRootCA.crt.pem\",  # Adjust the path according to your OS\n",
        "        ssl_disabled=False\n",
        "    )\n",
        "    print(\"Connection established successfully.\")\n",
        "   # Your code to interact with the database goes here\n",
        "\n",
        "    cnx.close()\n",
        "    print(\"Connection closed.\")\n",
        "except mysql.connector.Error as err:\n",
        "    if err.errno == errorcode.ER_ACCESS_DENIED_ERROR:\n",
        "        print(\"Something is wrong with your user name or password.\")\n",
        "    elif err.errno == errorcode.ER_BAD_DB_ERROR:\n",
        "        print(\"Database does not exist.\")\n",
        "    else:\n",
        "        print(err)\n",
        "else:\n",
        "    cnx.close()"
      ],
      "metadata": {
        "id": "HqtQgiC2SJ2u",
        "outputId": "ecdbd378-04ee-42c4-ec78-edc537ee7b45",
        "colab": {
          "base_uri": "https://localhost:8080/"
        }
      },
      "id": "HqtQgiC2SJ2u",
      "execution_count": 13,
      "outputs": [
        {
          "output_type": "stream",
          "name": "stdout",
          "text": [
            "Connection established successfully.\n",
            "Connection closed.\n"
          ]
        }
      ]
    },
    {
      "cell_type": "code",
      "source": [
        "import mysql.connector\n",
        "from mysql.connector import errorcode\n",
        "\n",
        "try:\n",
        "    cnx = mysql.connector.connect(\n",
        "        user=\"admin1\",\n",
        "        password=\"404/root/\",\n",
        "        host=\"njwazuredatabasemysql1.mysql.database.azure.com\",\n",
        "        port=3306,\n",
        "        database=\"mysql\",\n",
        "        ssl_ca=\"C:/Users/joseph274/Downloads/DigiCertGlobalRootCA.crt.pem\",  # Adjust the path according to your OS\n",
        "        ssl_disabled=False\n",
        "    )\n",
        "    print(\"Connection established successfully.\")\n",
        "\n",
        "    # Create a cursor object immediately after establishing the connection\n",
        "    cursor = cnx.cursor()\n",
        "\n",
        "    # Execute the query to list databases\n",
        "    cursor.execute(\"SHOW DATABASES;\")\n",
        "\n",
        "    # Fetch all results\n",
        "    databases = cursor.fetchall()\n",
        "\n",
        "    # Print the list of databases\n",
        "    print(\"Databases available:\")\n",
        "    for (database,) in databases:\n",
        "        print(database)\n",
        "\n",
        "    # Close the cursor and connection\n",
        "    cursor.close()\n",
        "    cnx.close()\n",
        "    print(\"Connection closed.\")\n",
        "\n",
        "except mysql.connector.Error as err:\n",
        "    if err.errno == errorcode.ER_ACCESS_DENIED_ERROR:\n",
        "        print(\"Something is wrong with your user name or password.\")\n",
        "    elif err.errno == errorcode.ER_BAD_DB_ERROR:\n",
        "        print(\"Database does not exist.\")\n",
        "    else:\n",
        "        print(err)\n",
        "# Removed the 'else' block as the connection is now closed within the 'try' block after use"
      ],
      "metadata": {
        "id": "l-0w8mwMSOVa",
        "outputId": "187d0b98-77e5-48a4-fe36-8b35c258c328",
        "colab": {
          "base_uri": "https://localhost:8080/"
        }
      },
      "id": "l-0w8mwMSOVa",
      "execution_count": 16,
      "outputs": [
        {
          "output_type": "stream",
          "name": "stdout",
          "text": [
            "Connection established successfully.\n",
            "Databases available:\n",
            "information_schema\n",
            "mysql\n",
            "performance_schema\n",
            "sys\n",
            "Connection closed.\n"
          ]
        }
      ]
    }
  ],
  "metadata": {
    "kernelspec": {
      "display_name": "Python 3",
      "language": "python",
      "name": "python3"
    },
    "language_info": {
      "codemirror_mode": {
        "name": "ipython",
        "version": 3
      },
      "file_extension": ".py",
      "mimetype": "text/x-python",
      "name": "python",
      "nbconvert_exporter": "python",
      "pygments_lexer": "ipython3",
      "version": "3.12.2"
    },
    "colab": {
      "provenance": [],
      "include_colab_link": true
    }
  },
  "nbformat": 4,
  "nbformat_minor": 5
}